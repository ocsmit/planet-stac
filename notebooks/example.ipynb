{
 "cells": [
  {
   "cell_type": "code",
   "execution_count": 1,
   "id": "78c33e54-d86e-4043-835c-fb90853e9972",
   "metadata": {},
   "outputs": [],
   "source": [
    "import sys\n",
    "sys.path.append(\"..\")\n",
    "\n",
    "import planetstac as ps"
   ]
  },
  {
   "cell_type": "markdown",
   "id": "aabfaab0-8838-4ec8-9950-19aa51e6ba52",
   "metadata": {},
   "source": [
    "# Create filter"
   ]
  },
  {
   "cell_type": "code",
   "execution_count": 2,
   "id": "4938762c-a2ee-4ecb-891c-8c9895c58315",
   "metadata": {},
   "outputs": [],
   "source": [
    "# Jordan Hall @ NCSU\n",
    "geom = {\n",
    "    \"type\": \"Polygon\",\n",
    "    \"coordinates\": [\n",
    "        [\n",
    "            [-78.67905020713806, 35.780212341409914],\n",
    "            [-78.67378234863281, 35.780212341409914],\n",
    "            [-78.67378234863281, 35.782684221280086],\n",
    "            [-78.67905020713806, 35.782684221280086],\n",
    "            [-78.67905020713806, 35.780212341409914],\n",
    "        ]\n",
    "    ],\n",
    "}\n",
    "\n",
    "geometry_filter = {\n",
    "    \"type\": \"GeometryFilter\",\n",
    "    \"field_name\": \"geometry\",\n",
    "    \"config\": geom,\n",
    "}\n",
    "\n",
    "# filter images acquired in a certain date range\n",
    "# use really small date range for this example\n",
    "date_range_filter = {\n",
    "    \"type\": \"DateRangeFilter\",\n",
    "    \"field_name\": \"acquired\",\n",
    "    \"config\": {\n",
    "        \"gte\": \"2018-08-30T00:00:00.000Z\",\n",
    "        \"lte\": \"2018-09-01T00:00:00.000Z\",\n",
    "    },\n",
    "}\n",
    "\n",
    "# filter any images which are more than 50% clouds\n",
    "cloud_cover_filter = {\n",
    "    \"type\": \"RangeFilter\",\n",
    "    \"field_name\": \"cloud_cover\",\n",
    "    \"config\": {\"lte\": 0.5},\n",
    "}\n",
    "\n",
    "# Specify which assets we want. \n",
    "asset_filter = {\"type\": \"AssetFilter\", \"config\": [\"ortho_analytic_4b_sr\"]}\n",
    "\n",
    "# Ensure they are in standard quality\n",
    "standard = {\n",
    "    \"type\": \"StringInFilter\",\n",
    "    \"config\": [\"standard\"],\n",
    "    \"field_name\": \"quality_category\",\n",
    "}\n",
    "\n",
    "\n",
    "# Combine all the filters with And (could also do Or)\n",
    "combined_filter = {\n",
    "    \"type\": \"AndFilter\",\n",
    "    \"config\": [\n",
    "        geometry_filter,\n",
    "        date_range_filter,\n",
    "        cloud_cover_filter,\n",
    "        asset_filter,\n",
    "        standard\n",
    "    ],\n",
    "}\n"
   ]
  },
  {
   "cell_type": "markdown",
   "id": "bff91796-8b5c-450d-bef9-dbaa13905f66",
   "metadata": {},
   "source": [
    "# Search for PSScenes"
   ]
  },
  {
   "cell_type": "code",
   "execution_count": 3,
   "id": "bec6427b-926f-47e8-b49c-996fdfa93f04",
   "metadata": {},
   "outputs": [
    {
     "name": "stdout",
     "output_type": "stream",
     "text": [
      "Help on class Search in module planetstac.search:\n",
      "\n",
      "class Search(planetstac.auth.Authenticate)\n",
      " |  Search(item_type, filter, **kwargs) -> None\n",
      " |  \n",
      " |  Method resolution order:\n",
      " |      Search\n",
      " |      planetstac.auth.Authenticate\n",
      " |      builtins.object\n",
      " |  \n",
      " |  Methods defined here:\n",
      " |  \n",
      " |  __init__(self, item_type, filter, **kwargs) -> None\n",
      " |      Class for searching Planet API\n",
      " |      \n",
      " |      TODO: Document\n",
      " |      \n",
      " |      returns\n",
      " |      -------\n",
      " |          items: ItemIds\n",
      " |  \n",
      " |  ----------------------------------------------------------------------\n",
      " |  Readonly properties defined here:\n",
      " |  \n",
      " |  item_type\n",
      " |  \n",
      " |  items\n",
      " |  \n",
      " |  request\n",
      " |  \n",
      " |  response\n",
      " |  \n",
      " |  ----------------------------------------------------------------------\n",
      " |  Readonly properties inherited from planetstac.auth.Authenticate:\n",
      " |  \n",
      " |  authentication\n",
      " |  \n",
      " |  ok\n",
      " |  \n",
      " |  ----------------------------------------------------------------------\n",
      " |  Data descriptors inherited from planetstac.auth.Authenticate:\n",
      " |  \n",
      " |  __dict__\n",
      " |      dictionary for instance variables (if defined)\n",
      " |  \n",
      " |  __weakref__\n",
      " |      list of weak references to the object (if defined)\n",
      "\n",
      "{'item_type': 'PSScene', 'ids': [...], 'count': 2}\n"
     ]
    }
   ],
   "source": [
    "ITEM_TYPE = \"PSScene\"\n",
    "help(ps.Search)\n",
    "ss = ps.Search(ITEM_TYPE, combined_filter)\n",
    "#items = ss.get(combined_filter)\n",
    "items = ss.items\n",
    "print(items)"
   ]
  },
  {
   "cell_type": "markdown",
   "id": "ed768fc3-f836-4488-9335-b0dddc893346",
   "metadata": {},
   "source": [
    "# Place order"
   ]
  },
  {
   "cell_type": "markdown",
   "id": "7e303491-ff1a-4480-bd68-a14b0db111a7",
   "metadata": {},
   "source": [
    "Create order object. This does not place the order, only generates all that is required to do so. "
   ]
  },
  {
   "cell_type": "code",
   "execution_count": 4,
   "id": "d489b7b5-d7dc-4aef-8ff7-911fafa23e3f",
   "metadata": {},
   "outputs": [
    {
     "name": "stdout",
     "output_type": "stream",
     "text": [
      "Help on class Order in module planetstac.order:\n",
      "\n",
      "class Order(planetstac.auth.Authenticate)\n",
      " |  Order(name: str, product_bundle: str, items: planetstac.search.ItemIds, **kwargs) -> None\n",
      " |  \n",
      " |  Method resolution order:\n",
      " |      Order\n",
      " |      planetstac.auth.Authenticate\n",
      " |      builtins.object\n",
      " |  \n",
      " |  Methods defined here:\n",
      " |  \n",
      " |  __init__(self, name: str, product_bundle: str, items: planetstac.search.ItemIds, **kwargs) -> None\n",
      " |      Initialize self.  See help(type(self)) for accurate signature.\n",
      " |  \n",
      " |  cancel(self) -> None\n",
      " |  \n",
      " |  place(self) -> None\n",
      " |  \n",
      " |  status(self) -> str\n",
      " |  \n",
      " |  tools(self, geom)\n",
      " |  \n",
      " |  ----------------------------------------------------------------------\n",
      " |  Readonly properties defined here:\n",
      " |  \n",
      " |  order_url\n",
      " |  \n",
      " |  request\n",
      " |  \n",
      " |  ----------------------------------------------------------------------\n",
      " |  Readonly properties inherited from planetstac.auth.Authenticate:\n",
      " |  \n",
      " |  authentication\n",
      " |  \n",
      " |  ok\n",
      " |  \n",
      " |  ----------------------------------------------------------------------\n",
      " |  Data descriptors inherited from planetstac.auth.Authenticate:\n",
      " |  \n",
      " |  __dict__\n",
      " |      dictionary for instance variables (if defined)\n",
      " |  \n",
      " |  __weakref__\n",
      " |      list of weak references to the object (if defined)\n",
      "\n"
     ]
    }
   ],
   "source": [
    "help(ps.Order)\n",
    "so = ps.Order(\"api_test\", product_bundle = \"analytic_sr_udm2\", items = items, stac=True)"
   ]
  },
  {
   "cell_type": "markdown",
   "id": "10dc6a5d-ed26-4676-8611-94d5f5908b3f",
   "metadata": {},
   "source": [
    "We can check the status of the order with so.status"
   ]
  },
  {
   "cell_type": "code",
   "execution_count": 5,
   "id": "1909aa0d-a5a4-4c49-9871-c3ff7aabddc5",
   "metadata": {},
   "outputs": [
    {
     "data": {
      "text/plain": [
       "'unplaced'"
      ]
     },
     "execution_count": 5,
     "metadata": {},
     "output_type": "execute_result"
    }
   ],
   "source": [
    "so.status()"
   ]
  },
  {
   "cell_type": "markdown",
   "id": "09dcad07-c1b4-4c03-8837-5a403dc304dc",
   "metadata": {},
   "source": [
    "We can actually place the order as follows"
   ]
  },
  {
   "cell_type": "code",
   "execution_count": 6,
   "id": "86a2c647-1086-4613-8ae0-322b566e9259",
   "metadata": {},
   "outputs": [
    {
     "data": {
      "text/plain": [
       "'queued'"
      ]
     },
     "execution_count": 6,
     "metadata": {},
     "output_type": "execute_result"
    }
   ],
   "source": [
    "so.place()\n",
    "so.status()"
   ]
  },
  {
   "cell_type": "markdown",
   "id": "2e1cd6f2-fb98-4e51-9c12-3d0b9bc34701",
   "metadata": {},
   "source": [
    "we can also cancel the order with"
   ]
  },
  {
   "cell_type": "code",
   "execution_count": 7,
   "id": "5e0118a8-5192-4e4a-b77f-40ffec9bef27",
   "metadata": {},
   "outputs": [],
   "source": [
    "so.cancel()"
   ]
  },
  {
   "cell_type": "markdown",
   "id": "d943271c-28f3-4607-be4a-692135da6a58",
   "metadata": {},
   "source": [
    "Right now only clipping with geometry is supported with the order function, this can be accomplished with "
   ]
  },
  {
   "cell_type": "code",
   "execution_count": 8,
   "id": "54c6854a-e0e0-4142-a0e4-a85d7d8beafa",
   "metadata": {},
   "outputs": [],
   "source": [
    "so.tools(geom)\n",
    "so.place()\n"
   ]
  },
  {
   "cell_type": "code",
   "execution_count": 9,
   "id": "91d40052-50bb-4bb0-88ac-8836598de4d2",
   "metadata": {},
   "outputs": [],
   "source": [
    "so.cancel()"
   ]
  }
 ],
 "metadata": {
  "kernelspec": {
   "display_name": "Python 3 (ipykernel)",
   "language": "python",
   "name": "python3"
  },
  "language_info": {
   "codemirror_mode": {
    "name": "ipython",
    "version": 3
   },
   "file_extension": ".py",
   "mimetype": "text/x-python",
   "name": "python",
   "nbconvert_exporter": "python",
   "pygments_lexer": "ipython3",
   "version": "3.10.5"
  }
 },
 "nbformat": 4,
 "nbformat_minor": 5
}
